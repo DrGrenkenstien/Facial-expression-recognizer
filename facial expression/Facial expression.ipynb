{
 "cells": [
  {
   "cell_type": "markdown",
   "id": "b14d71d2",
   "metadata": {},
   "source": [
    "Always scale the data"
   ]
  },
  {
   "cell_type": "code",
   "execution_count": 1,
   "id": "480f94df",
   "metadata": {},
   "outputs": [],
   "source": [
    "import numpy as np\n",
    "import pandas as pd\n",
    "import tensorflow as tf\n",
    "import cv2 as cv\n",
    "import os"
   ]
  },
  {
   "cell_type": "code",
   "execution_count": 2,
   "id": "0bf9c4bf",
   "metadata": {},
   "outputs": [],
   "source": [
    "from keras.preprocessing.image import ImageDataGenerator"
   ]
  },
  {
   "cell_type": "code",
   "execution_count": 4,
   "id": "a4f4e914",
   "metadata": {},
   "outputs": [],
   "source": [
    "generator = ImageDataGenerator(\n",
    "            rotation_range = 20,\n",
    "            shear_range = 0.1,\n",
    "            zoom_range = 0.1,\n",
    "            height_shift_range = 0.1,\n",
    "            width_shift_range = 0.1,\n",
    "            horizontal_flip = True,\n",
    "            fill_mode = 'nearest',\n",
    "            rescale = .1/255\n",
    "            )"
   ]
  },
  {
   "cell_type": "code",
   "execution_count": 5,
   "id": "259bd28f",
   "metadata": {},
   "outputs": [],
   "source": [
    "train_path = r\"C:\\Users\\shubh\\Desktop\\Facial expressiion\\train\\train\"\n",
    "test_path = r\"C:\\Users\\shubh\\Desktop\\Facial expressiion\\test\\test\""
   ]
  },
  {
   "cell_type": "code",
   "execution_count": 6,
   "id": "2b113450",
   "metadata": {},
   "outputs": [
    {
     "data": {
      "text/plain": [
       "(48, 48, 3)"
      ]
     },
     "execution_count": 6,
     "metadata": {},
     "output_type": "execute_result"
    }
   ],
   "source": [
    "img = cv.imread(r\"C:\\Users\\shubh\\Desktop\\Facial expressiion\\train\\train\\angry\\Training_3908.jpg\")\n",
    "img.shape"
   ]
  },
  {
   "cell_type": "code",
   "execution_count": 7,
   "id": "ba957a6a",
   "metadata": {},
   "outputs": [
    {
     "name": "stdout",
     "output_type": "stream",
     "text": [
      "Found 28709 images belonging to 7 classes.\n"
     ]
    }
   ],
   "source": [
    "train_batch = generator.flow_from_directory(train_path, target_size = img.shape[:2], batch_size = 16, color_mode = 'grayscale', class_mode = 'categorical')"
   ]
  },
  {
   "cell_type": "code",
   "execution_count": 8,
   "id": "413725e7",
   "metadata": {},
   "outputs": [
    {
     "name": "stdout",
     "output_type": "stream",
     "text": [
      "Found 7178 images belonging to 7 classes.\n"
     ]
    }
   ],
   "source": [
    "test_batch = generator.flow_from_directory(test_path, target_size = img.shape[:2], batch_size = 16, color_mode = 'grayscale', class_mode = 'categorical', shuffle = False)"
   ]
  },
  {
   "cell_type": "code",
   "execution_count": 9,
   "id": "ae7d5e70",
   "metadata": {},
   "outputs": [],
   "source": [
    "from keras.models import Sequential\n",
    "from keras.layers import Dense, Conv2D, MaxPooling2D, Flatten, Dropout, BatchNormalization, Activation\n",
    "from keras.callbacks import EarlyStopping, ReduceLROnPlateau"
   ]
  },
  {
   "cell_type": "code",
   "execution_count": 11,
   "id": "12756a1f",
   "metadata": {},
   "outputs": [],
   "source": [
    "model = Sequential()\n",
    "\n",
    "#part1\n",
    "48\n",
    "model.add(Conv2D(32,(3,3),padding='same',kernel_initializer='he_normal',input_shape=(48, 48, 1))) #input_shape is to be specified only once\n",
    "model.add(Activation('elu'))       #using elu as it doesn't have negative input and smoothes slowly\n",
    "model.add(BatchNormalization())\n",
    "model.add(Conv2D(32,(3,3),padding='same',kernel_initializer='he_normal', ))\n",
    "model.add(Activation('elu'))\n",
    "model.add(BatchNormalization())\n",
    "model.add(MaxPooling2D(pool_size=(2,2)))\n",
    "model.add(Dropout(0.2))    #dropout refers to the percentage of neurons to be deactivated while transmission\n",
    "#part2\n",
    "\n",
    "model.add(Conv2D(64,(3,3),padding='same',kernel_initializer='he_normal'))\n",
    "model.add(Activation('elu'))\n",
    "model.add(BatchNormalization())\n",
    "model.add(Conv2D(64,(3,3),padding='same',kernel_initializer='he_normal'))\n",
    "model.add(Activation('elu'))\n",
    "model.add(BatchNormalization())\n",
    "model.add(MaxPooling2D(pool_size=(2,2)))\n",
    "model.add(Dropout(0.2))\n",
    "#part3\n",
    "\n",
    "model.add(Conv2D(128,(3,3),padding='same',kernel_initializer='he_normal'))\n",
    "model.add(Activation('elu'))\n",
    "model.add(BatchNormalization())\n",
    "model.add(Conv2D(128,(3,3),padding='same',kernel_initializer='he_normal'))\n",
    "model.add(Activation('elu'))\n",
    "model.add(BatchNormalization())\n",
    "model.add(MaxPooling2D(pool_size=(2,2)))\n",
    "model.add(Dropout(0.2))\n",
    "#part4 \n",
    "\n",
    "model.add(Conv2D(256,(3,3),padding='same',kernel_initializer='he_normal'))\n",
    "model.add(Activation('elu'))\n",
    "model.add(BatchNormalization())\n",
    "model.add(Conv2D(256,(3,3),padding='same',kernel_initializer='he_normal'))\n",
    "model.add(Activation('elu'))\n",
    "model.add(BatchNormalization())\n",
    "model.add(MaxPooling2D(pool_size=(2,2)))\n",
    "model.add(Dropout(0.2))\n",
    "\n",
    "#part1\n",
    "model.add(Flatten())\n",
    "model.add(Dense(64,kernel_initializer='he_normal'))\n",
    "model.add(Activation('elu'))\n",
    "model.add(BatchNormalization())\n",
    "model.add(Dropout(0.5))\n",
    "\n",
    "#part2\n",
    "model.add(Dense(64,kernel_initializer='he_normal'))\n",
    "model.add(Activation('elu'))\n",
    "model.add(BatchNormalization())\n",
    "model.add(Dropout(0.5))\n",
    "\n",
    "#part3\n",
    "model.add(Dense(7,kernel_initializer='he_normal'))\n",
    "model.add(Activation('softmax'))"
   ]
  },
  {
   "cell_type": "code",
   "execution_count": 12,
   "id": "94eec8ca",
   "metadata": {},
   "outputs": [],
   "source": [
    "model.compile(loss = 'categorical_crossentropy', optimizer = 'adam', metrics = ['accuracy'])"
   ]
  },
  {
   "cell_type": "code",
   "execution_count": 13,
   "id": "3cd3bbd2",
   "metadata": {},
   "outputs": [],
   "source": [
    "Earlystop = EarlyStopping(patience = 3, monitor = 'val_loss')\n",
    "ReduceLR = ReduceLROnPlateau(monitor = 'val_loss', patience = 3, min_lr = 0.001, factor = 0.2)"
   ]
  },
  {
   "cell_type": "code",
   "execution_count": 20,
   "id": "4447e160",
   "metadata": {},
   "outputs": [
    {
     "name": "stdout",
     "output_type": "stream",
     "text": [
      "Epoch 1/8\n",
      "1795/1795 [==============================] - 365s 203ms/step - loss: 1.1710 - accuracy: 0.5716 - val_loss: 1.0946 - val_accuracy: 0.5915\n",
      "Epoch 2/8\n",
      "1795/1795 [==============================] - 362s 202ms/step - loss: 1.1522 - accuracy: 0.5809 - val_loss: 1.0662 - val_accuracy: 0.6021\n",
      "Epoch 3/8\n",
      "1795/1795 [==============================] - 367s 204ms/step - loss: 1.1411 - accuracy: 0.5818 - val_loss: 1.1713 - val_accuracy: 0.5671\n",
      "Epoch 4/8\n",
      "1795/1795 [==============================] - 371s 207ms/step - loss: 1.1344 - accuracy: 0.5822 - val_loss: 1.0839 - val_accuracy: 0.5957\n",
      "Epoch 5/8\n",
      "1795/1795 [==============================] - 365s 203ms/step - loss: 1.1165 - accuracy: 0.5932 - val_loss: 1.0981 - val_accuracy: 0.5915\n"
     ]
    },
    {
     "data": {
      "text/plain": [
       "<keras.callbacks.History at 0x16470c67b80>"
      ]
     },
     "execution_count": 20,
     "metadata": {},
     "output_type": "execute_result"
    }
   ],
   "source": [
    "model.fit(train_batch, epochs = 5, validation_data = test_batch, callbacks = [Earlystop, ReduceLR])"
   ]
  },
  {
   "cell_type": "code",
   "execution_count": 21,
   "id": "01c1320b",
   "metadata": {},
   "outputs": [
    {
     "data": {
      "text/plain": [
       "<AxesSubplot:>"
      ]
     },
     "execution_count": 21,
     "metadata": {},
     "output_type": "execute_result"
    },
    {
     "data": {
      "image/png": "[encoded data removed]",
      "text/plain": [
       "<Figure size 1440x720 with 1 Axes>"
      ]
     },
     "metadata": {
      "needs_background": "light"
     },
     "output_type": "display_data"
    }
   ],
   "source": [
    "result = pd.DataFrame(model.history.history)\n",
    "result.plot(figsize = (20, 10))"
   ]
  },
  {
   "cell_type": "code",
   "execution_count": 29,
   "id": "0433bf7d",
   "metadata": {},
   "outputs": [],
   "source": [
    "X, y = test_batch[0]"
   ]
  },
  {
   "cell_type": "code",
   "execution_count": 30,
   "id": "a3983594",
   "metadata": {},
   "outputs": [],
   "source": [
    "pred = model.predict(X)"
   ]
  },
  {
   "cell_type": "code",
   "execution_count": 31,
   "id": "dfc09b0c",
   "metadata": {},
   "outputs": [
    {
     "data": {
      "text/plain": [
       "5"
      ]
     },
     "execution_count": 31,
     "metadata": {},
     "output_type": "execute_result"
    }
   ],
   "source": [
    "pred[0].argmax()"
   ]
  },
  {
   "cell_type": "code",
   "execution_count": 32,
   "id": "b9f1baef",
   "metadata": {},
   "outputs": [
    {
     "data": {
      "text/plain": [
       "array([1., 0., 0., 0., 0., 0., 0.], dtype=float32)"
      ]
     },
     "execution_count": 32,
     "metadata": {},
     "output_type": "execute_result"
    }
   ],
   "source": [
    "y[0]"
   ]
  },
  {
   "cell_type": "code",
   "execution_count": 23,
   "id": "b2ee47c0",
   "metadata": {},
   "outputs": [],
   "source": [
    "model.save('face3.h5')"
   ]
  }
 ],
 "metadata": {
  "kernelspec": {
   "display_name": "Python 3",
   "language": "python",
   "name": "python3"
  },
  "language_info": {
   "codemirror_mode": {
    "name": "ipython",
    "version": 3
   },
   "file_extension": ".py",
   "mimetype": "text/x-python",
   "name": "python",
   "nbconvert_exporter": "python",
   "pygments_lexer": "ipython3",
   "version": "3.9.6"
  }
 },
 "nbformat": 4,
 "nbformat_minor": 5
}
