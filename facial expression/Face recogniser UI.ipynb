{
 "cells": [
  {
   "cell_type": "code",
   "execution_count": 1,
   "id": "caff1252",
   "metadata": {},
   "outputs": [],
   "source": [
    "from keras.models import load_model\n",
    "import numpy as np"
   ]
  },
  {
   "cell_type": "code",
   "execution_count": 2,
   "id": "0c46465f",
   "metadata": {},
   "outputs": [],
   "source": [
    "model = load_model('face3.h5')"
   ]
  },
  {
   "cell_type": "code",
   "execution_count": 3,
   "id": "da6702ed",
   "metadata": {},
   "outputs": [],
   "source": [
    "import cv2 as cv"
   ]
  },
  {
   "cell_type": "code",
   "execution_count": 4,
   "id": "c0334229",
   "metadata": {},
   "outputs": [],
   "source": [
    "labels = ['angry', 'disgust', 'fear', 'happy', 'neutral', 'sad', 'surprise']"
   ]
  },
  {
   "cell_type": "code",
   "execution_count": 32,
   "id": "cefa5669",
   "metadata": {},
   "outputs": [],
   "source": [
    "cap.release()"
   ]
  },
  {
   "cell_type": "code",
   "execution_count": 7,
   "id": "713dabad",
   "metadata": {},
   "outputs": [],
   "source": [
    "cap = cv.VideoCapture(0) #SIMPLY PASS THE VIDEO FILE PATH TO BE READ..\n",
    "\n",
    "while True:\n",
    "    \n",
    "    flag, org = cap.read()\n",
    "    img = org\n",
    "    \n",
    "#     print(type(org))\n",
    "    \n",
    "    h = int(cap.get(cv.CAP_PROP_FRAME_HEIGHT))\n",
    "    w = int(cap.get(cv.CAP_PROP_FRAME_WIDTH))\n",
    "    \n",
    "    cv.rectangle(org, (200, w//8), (h, 400), (255, 255, 255), 3)\n",
    "    \n",
    "#     print(org.shape)\n",
    "    \n",
    "    img = org[100:400, 200:470, :]\n",
    "    cv.imshow('roi', img)\n",
    "#     print(img)\n",
    "    img = cv.resize(img, (48, 48))\n",
    "    \n",
    "#     cv.imshow('here', img)\n",
    "    img = cv.cvtColor(img, cv.COLOR_RGB2GRAY)\n",
    "#     cv.imshow('here', img)\n",
    "    img = img.reshape(1, 48, 48, -1)\n",
    "#     print(img.shape)\n",
    "    \n",
    "    \n",
    "    \n",
    "    img = img.astype(np.float)/255\n",
    "    \n",
    "    pred = model.predict(img)\n",
    "    \n",
    "    ans = labels[pred.argmax()]\n",
    "    \n",
    "#     print(ans)\n",
    "    \n",
    "    cv.putText(org, text = ans, org = (h//2 + 50, w//8 - 2), fontFace = cv.FONT_HERSHEY_SIMPLEX, fontScale = 1, color = (0, 255, 0), thickness = 1, lineType = cv.LINE_AA)\n",
    "    \n",
    "    cv.imshow('here', org)\n",
    "    \n",
    "    if cv.waitKey(1) & 0xFF == 27:\n",
    "        break\n",
    "\n",
    "cap.release() #source release\n",
    "cv.destroyAllWindows()"
   ]
  },
  {
   "cell_type": "code",
   "execution_count": 6,
   "id": "3ee32547",
   "metadata": {},
   "outputs": [
    {
     "data": {
      "text/plain": [
       "'neutral'"
      ]
     },
     "execution_count": 6,
     "metadata": {},
     "output_type": "execute_result"
    }
   ],
   "source": [
    "ans"
   ]
  }
 ],
 "metadata": {
  "kernelspec": {
   "display_name": "Python 3",
   "language": "python",
   "name": "python3"
  },
  "language_info": {
   "codemirror_mode": {
    "name": "ipython",
    "version": 3
   },
   "file_extension": ".py",
   "mimetype": "text/x-python",
   "name": "python",
   "nbconvert_exporter": "python",
   "pygments_lexer": "ipython3",
   "version": "3.9.6"
  }
 },
 "nbformat": 4,
 "nbformat_minor": 5
}
